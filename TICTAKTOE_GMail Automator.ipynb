{
 "cells": [
  {
   "cell_type": "code",
   "execution_count": 7,
   "metadata": {},
   "outputs": [
    {
     "name": "stdout",
     "output_type": "stream",
     "text": [
      "5\n",
      "hello\n"
     ]
    }
   ],
   "source": [
    "a=5\n",
    "print(a)\n",
    "b=\"hello\"\n",
    "print(b)"
   ]
  },
  {
   "cell_type": "code",
   "execution_count": 8,
   "metadata": {},
   "outputs": [],
   "source": [
    "import turtle\n",
    "%matplotlib inline"
   ]
  },
  {
   "cell_type": "code",
   "execution_count": 49,
   "metadata": {},
   "outputs": [
    {
     "ename": "Terminator",
     "evalue": "",
     "output_type": "error",
     "traceback": [
      "\u001b[1;31m---------------------------------------------------------------------------\u001b[0m",
      "\u001b[1;31mTerminator\u001b[0m                                Traceback (most recent call last)",
      "\u001b[1;32m<ipython-input-49-d35fa5471445>\u001b[0m in \u001b[0;36m<module>\u001b[1;34m\u001b[0m\n\u001b[1;32m----> 1\u001b[1;33m \u001b[0mf\u001b[0m\u001b[1;33m=\u001b[0m\u001b[0mturtle\u001b[0m\u001b[1;33m.\u001b[0m\u001b[0mTurtle\u001b[0m\u001b[1;33m(\u001b[0m\u001b[1;33m)\u001b[0m\u001b[1;33m\u001b[0m\u001b[1;33m\u001b[0m\u001b[0m\n\u001b[0m\u001b[0;32m      2\u001b[0m \u001b[0mf\u001b[0m\u001b[1;33m.\u001b[0m\u001b[0mforward\u001b[0m\u001b[1;33m(\u001b[0m\u001b[1;36m100\u001b[0m\u001b[1;33m)\u001b[0m\u001b[1;33m\u001b[0m\u001b[1;33m\u001b[0m\u001b[0m\n\u001b[0;32m      3\u001b[0m \u001b[0mf\u001b[0m\u001b[1;33m.\u001b[0m\u001b[0mright\u001b[0m\u001b[1;33m(\u001b[0m\u001b[1;36m90\u001b[0m\u001b[1;33m)\u001b[0m\u001b[1;33m\u001b[0m\u001b[1;33m\u001b[0m\u001b[0m\n\u001b[0;32m      4\u001b[0m \u001b[0mf\u001b[0m\u001b[1;33m.\u001b[0m\u001b[0mforward\u001b[0m\u001b[1;33m(\u001b[0m\u001b[1;36m100\u001b[0m\u001b[1;33m)\u001b[0m\u001b[1;33m\u001b[0m\u001b[1;33m\u001b[0m\u001b[0m\n\u001b[0;32m      5\u001b[0m \u001b[0mf\u001b[0m\u001b[1;33m.\u001b[0m\u001b[0mright\u001b[0m\u001b[1;33m(\u001b[0m\u001b[1;36m90\u001b[0m\u001b[1;33m)\u001b[0m\u001b[1;33m\u001b[0m\u001b[1;33m\u001b[0m\u001b[0m\n",
      "\u001b[1;32m~\\Anaconda3\\lib\\turtle.py\u001b[0m in \u001b[0;36m__init__\u001b[1;34m(self, shape, undobuffersize, visible)\u001b[0m\n\u001b[0;32m   3814\u001b[0m                            \u001b[0mshape\u001b[0m\u001b[1;33m=\u001b[0m\u001b[0mshape\u001b[0m\u001b[1;33m,\u001b[0m\u001b[1;33m\u001b[0m\u001b[1;33m\u001b[0m\u001b[0m\n\u001b[0;32m   3815\u001b[0m                            \u001b[0mundobuffersize\u001b[0m\u001b[1;33m=\u001b[0m\u001b[0mundobuffersize\u001b[0m\u001b[1;33m,\u001b[0m\u001b[1;33m\u001b[0m\u001b[1;33m\u001b[0m\u001b[0m\n\u001b[1;32m-> 3816\u001b[1;33m                            visible=visible)\n\u001b[0m\u001b[0;32m   3817\u001b[0m \u001b[1;33m\u001b[0m\u001b[0m\n\u001b[0;32m   3818\u001b[0m \u001b[0mPen\u001b[0m \u001b[1;33m=\u001b[0m \u001b[0mTurtle\u001b[0m\u001b[1;33m\u001b[0m\u001b[1;33m\u001b[0m\u001b[0m\n",
      "\u001b[1;32m~\\Anaconda3\\lib\\turtle.py\u001b[0m in \u001b[0;36m__init__\u001b[1;34m(self, canvas, shape, undobuffersize, visible)\u001b[0m\n\u001b[0;32m   2555\u001b[0m         \u001b[0mself\u001b[0m\u001b[1;33m.\u001b[0m\u001b[0m_undobuffersize\u001b[0m \u001b[1;33m=\u001b[0m \u001b[0mundobuffersize\u001b[0m\u001b[1;33m\u001b[0m\u001b[1;33m\u001b[0m\u001b[0m\n\u001b[0;32m   2556\u001b[0m         \u001b[0mself\u001b[0m\u001b[1;33m.\u001b[0m\u001b[0mundobuffer\u001b[0m \u001b[1;33m=\u001b[0m \u001b[0mTbuffer\u001b[0m\u001b[1;33m(\u001b[0m\u001b[0mundobuffersize\u001b[0m\u001b[1;33m)\u001b[0m\u001b[1;33m\u001b[0m\u001b[1;33m\u001b[0m\u001b[0m\n\u001b[1;32m-> 2557\u001b[1;33m         \u001b[0mself\u001b[0m\u001b[1;33m.\u001b[0m\u001b[0m_update\u001b[0m\u001b[1;33m(\u001b[0m\u001b[1;33m)\u001b[0m\u001b[1;33m\u001b[0m\u001b[1;33m\u001b[0m\u001b[0m\n\u001b[0m\u001b[0;32m   2558\u001b[0m \u001b[1;33m\u001b[0m\u001b[0m\n\u001b[0;32m   2559\u001b[0m     \u001b[1;32mdef\u001b[0m \u001b[0mreset\u001b[0m\u001b[1;33m(\u001b[0m\u001b[0mself\u001b[0m\u001b[1;33m)\u001b[0m\u001b[1;33m:\u001b[0m\u001b[1;33m\u001b[0m\u001b[1;33m\u001b[0m\u001b[0m\n",
      "\u001b[1;32m~\\Anaconda3\\lib\\turtle.py\u001b[0m in \u001b[0;36m_update\u001b[1;34m(self)\u001b[0m\n\u001b[0;32m   2658\u001b[0m             \u001b[1;32mreturn\u001b[0m\u001b[1;33m\u001b[0m\u001b[1;33m\u001b[0m\u001b[0m\n\u001b[0;32m   2659\u001b[0m         \u001b[1;32melif\u001b[0m \u001b[0mscreen\u001b[0m\u001b[1;33m.\u001b[0m\u001b[0m_tracing\u001b[0m \u001b[1;33m==\u001b[0m \u001b[1;36m1\u001b[0m\u001b[1;33m:\u001b[0m\u001b[1;33m\u001b[0m\u001b[1;33m\u001b[0m\u001b[0m\n\u001b[1;32m-> 2660\u001b[1;33m             \u001b[0mself\u001b[0m\u001b[1;33m.\u001b[0m\u001b[0m_update_data\u001b[0m\u001b[1;33m(\u001b[0m\u001b[1;33m)\u001b[0m\u001b[1;33m\u001b[0m\u001b[1;33m\u001b[0m\u001b[0m\n\u001b[0m\u001b[0;32m   2661\u001b[0m             \u001b[0mself\u001b[0m\u001b[1;33m.\u001b[0m\u001b[0m_drawturtle\u001b[0m\u001b[1;33m(\u001b[0m\u001b[1;33m)\u001b[0m\u001b[1;33m\u001b[0m\u001b[1;33m\u001b[0m\u001b[0m\n\u001b[0;32m   2662\u001b[0m             \u001b[0mscreen\u001b[0m\u001b[1;33m.\u001b[0m\u001b[0m_update\u001b[0m\u001b[1;33m(\u001b[0m\u001b[1;33m)\u001b[0m                  \u001b[1;31m# TurtleScreenBase\u001b[0m\u001b[1;33m\u001b[0m\u001b[1;33m\u001b[0m\u001b[0m\n",
      "\u001b[1;32m~\\Anaconda3\\lib\\turtle.py\u001b[0m in \u001b[0;36m_update_data\u001b[1;34m(self)\u001b[0m\n\u001b[0;32m   2644\u001b[0m \u001b[1;33m\u001b[0m\u001b[0m\n\u001b[0;32m   2645\u001b[0m     \u001b[1;32mdef\u001b[0m \u001b[0m_update_data\u001b[0m\u001b[1;33m(\u001b[0m\u001b[0mself\u001b[0m\u001b[1;33m)\u001b[0m\u001b[1;33m:\u001b[0m\u001b[1;33m\u001b[0m\u001b[1;33m\u001b[0m\u001b[0m\n\u001b[1;32m-> 2646\u001b[1;33m         \u001b[0mself\u001b[0m\u001b[1;33m.\u001b[0m\u001b[0mscreen\u001b[0m\u001b[1;33m.\u001b[0m\u001b[0m_incrementudc\u001b[0m\u001b[1;33m(\u001b[0m\u001b[1;33m)\u001b[0m\u001b[1;33m\u001b[0m\u001b[1;33m\u001b[0m\u001b[0m\n\u001b[0m\u001b[0;32m   2647\u001b[0m         \u001b[1;32mif\u001b[0m \u001b[0mself\u001b[0m\u001b[1;33m.\u001b[0m\u001b[0mscreen\u001b[0m\u001b[1;33m.\u001b[0m\u001b[0m_updatecounter\u001b[0m \u001b[1;33m!=\u001b[0m \u001b[1;36m0\u001b[0m\u001b[1;33m:\u001b[0m\u001b[1;33m\u001b[0m\u001b[1;33m\u001b[0m\u001b[0m\n\u001b[0;32m   2648\u001b[0m             \u001b[1;32mreturn\u001b[0m\u001b[1;33m\u001b[0m\u001b[1;33m\u001b[0m\u001b[0m\n",
      "\u001b[1;32m~\\Anaconda3\\lib\\turtle.py\u001b[0m in \u001b[0;36m_incrementudc\u001b[1;34m(self)\u001b[0m\n\u001b[0;32m   1290\u001b[0m         \u001b[1;32mif\u001b[0m \u001b[1;32mnot\u001b[0m \u001b[0mTurtleScreen\u001b[0m\u001b[1;33m.\u001b[0m\u001b[0m_RUNNING\u001b[0m\u001b[1;33m:\u001b[0m\u001b[1;33m\u001b[0m\u001b[1;33m\u001b[0m\u001b[0m\n\u001b[0;32m   1291\u001b[0m             \u001b[0mTurtleScreen\u001b[0m\u001b[1;33m.\u001b[0m\u001b[0m_RUNNING\u001b[0m \u001b[1;33m=\u001b[0m \u001b[1;32mTrue\u001b[0m\u001b[1;33m\u001b[0m\u001b[1;33m\u001b[0m\u001b[0m\n\u001b[1;32m-> 1292\u001b[1;33m             \u001b[1;32mraise\u001b[0m \u001b[0mTerminator\u001b[0m\u001b[1;33m\u001b[0m\u001b[1;33m\u001b[0m\u001b[0m\n\u001b[0m\u001b[0;32m   1293\u001b[0m         \u001b[1;32mif\u001b[0m \u001b[0mself\u001b[0m\u001b[1;33m.\u001b[0m\u001b[0m_tracing\u001b[0m \u001b[1;33m>\u001b[0m \u001b[1;36m0\u001b[0m\u001b[1;33m:\u001b[0m\u001b[1;33m\u001b[0m\u001b[1;33m\u001b[0m\u001b[0m\n\u001b[0;32m   1294\u001b[0m             \u001b[0mself\u001b[0m\u001b[1;33m.\u001b[0m\u001b[0m_updatecounter\u001b[0m \u001b[1;33m+=\u001b[0m \u001b[1;36m1\u001b[0m\u001b[1;33m\u001b[0m\u001b[1;33m\u001b[0m\u001b[0m\n",
      "\u001b[1;31mTerminator\u001b[0m: "
     ]
    }
   ],
   "source": [
    "f=turtle.Turtle()\n",
    "f.forward(100)\n",
    "f.right(90)\n",
    "f.forward(100)\n",
    "f.right(90)\n",
    "f.forward(100)\n",
    "f.right(90)\n",
    "f.forward(100)\n",
    "f.right(90)"
   ]
  },
  {
   "cell_type": "code",
   "execution_count": 10,
   "metadata": {},
   "outputs": [],
   "source": [
    "def square():\n",
    "    f.forward(100)\n",
    "    f.right(90)\n",
    "    f.forward(100)\n",
    "    f.right(90)\n",
    "    f.forward(100)\n",
    "    f.right(90)\n",
    "    f.forward(100)\n",
    "    f.right(90)\n"
   ]
  },
  {
   "cell_type": "code",
   "execution_count": 12,
   "metadata": {},
   "outputs": [],
   "source": [
    "square()\n",
    "f.forward(300)\n",
    "square()"
   ]
  },
  {
   "cell_type": "code",
   "execution_count": 13,
   "metadata": {},
   "outputs": [],
   "source": [
    "import calendar"
   ]
  },
  {
   "cell_type": "code",
   "execution_count": 17,
   "metadata": {},
   "outputs": [
    {
     "name": "stdout",
     "output_type": "stream",
     "text": [
      "Mon Tue Wed Thu Fri Sat Sun\n"
     ]
    }
   ],
   "source": [
    "print(calendar.weekheader(3))"
   ]
  },
  {
   "cell_type": "code",
   "execution_count": 23,
   "metadata": {},
   "outputs": [
    {
     "name": "stdout",
     "output_type": "stream",
     "text": [
      "0\n"
     ]
    }
   ],
   "source": [
    "print(calendar.firstweekday())"
   ]
  },
  {
   "cell_type": "code",
   "execution_count": 30,
   "metadata": {},
   "outputs": [
    {
     "name": "stdout",
     "output_type": "stream",
     "text": [
      "     March 2019\n",
      "Mo Tu We Th Fr Sa Su\n",
      "             1  2  3\n",
      " 4  5  6  7  8  9 10\n",
      "11 12 13 14 15 16 17\n",
      "18 19 20 21 22 23 24\n",
      "25 26 27 28 29 30 31\n",
      "\n",
      "                                  2020\n",
      "\n",
      "      January                   February                   March\n",
      "Mo Tu We Th Fr Sa Su      Mo Tu We Th Fr Sa Su      Mo Tu We Th Fr Sa Su\n",
      "       1  2  3  4  5                      1  2                         1\n",
      " 6  7  8  9 10 11 12       3  4  5  6  7  8  9       2  3  4  5  6  7  8\n",
      "13 14 15 16 17 18 19      10 11 12 13 14 15 16       9 10 11 12 13 14 15\n",
      "20 21 22 23 24 25 26      17 18 19 20 21 22 23      16 17 18 19 20 21 22\n",
      "27 28 29 30 31            24 25 26 27 28 29         23 24 25 26 27 28 29\n",
      "                                                    30 31\n",
      "\n",
      "       April                      May                       June\n",
      "Mo Tu We Th Fr Sa Su      Mo Tu We Th Fr Sa Su      Mo Tu We Th Fr Sa Su\n",
      "       1  2  3  4  5                   1  2  3       1  2  3  4  5  6  7\n",
      " 6  7  8  9 10 11 12       4  5  6  7  8  9 10       8  9 10 11 12 13 14\n",
      "13 14 15 16 17 18 19      11 12 13 14 15 16 17      15 16 17 18 19 20 21\n",
      "20 21 22 23 24 25 26      18 19 20 21 22 23 24      22 23 24 25 26 27 28\n",
      "27 28 29 30               25 26 27 28 29 30 31      29 30\n",
      "\n",
      "        July                     August                  September\n",
      "Mo Tu We Th Fr Sa Su      Mo Tu We Th Fr Sa Su      Mo Tu We Th Fr Sa Su\n",
      "       1  2  3  4  5                      1  2          1  2  3  4  5  6\n",
      " 6  7  8  9 10 11 12       3  4  5  6  7  8  9       7  8  9 10 11 12 13\n",
      "13 14 15 16 17 18 19      10 11 12 13 14 15 16      14 15 16 17 18 19 20\n",
      "20 21 22 23 24 25 26      17 18 19 20 21 22 23      21 22 23 24 25 26 27\n",
      "27 28 29 30 31            24 25 26 27 28 29 30      28 29 30\n",
      "                          31\n",
      "\n",
      "      October                   November                  December\n",
      "Mo Tu We Th Fr Sa Su      Mo Tu We Th Fr Sa Su      Mo Tu We Th Fr Sa Su\n",
      "          1  2  3  4                         1          1  2  3  4  5  6\n",
      " 5  6  7  8  9 10 11       2  3  4  5  6  7  8       7  8  9 10 11 12 13\n",
      "12 13 14 15 16 17 18       9 10 11 12 13 14 15      14 15 16 17 18 19 20\n",
      "19 20 21 22 23 24 25      16 17 18 19 20 21 22      21 22 23 24 25 26 27\n",
      "26 27 28 29 30 31         23 24 25 26 27 28 29      28 29 30 31\n",
      "                          30\n",
      "\n"
     ]
    }
   ],
   "source": [
    "print(calendar.month(2019,3))\n",
    "print(calendar.calendar(2020))"
   ]
  },
  {
   "cell_type": "code",
   "execution_count": 36,
   "metadata": {},
   "outputs": [
    {
     "name": "stdout",
     "output_type": "stream",
     "text": [
      "5\n"
     ]
    }
   ],
   "source": [
    "dow=calendar.weekday(2020,4,25)\n",
    "print(dow)"
   ]
  },
  {
   "cell_type": "code",
   "execution_count": 38,
   "metadata": {},
   "outputs": [
    {
     "name": "stdout",
     "output_type": "stream",
     "text": [
      "hello\n"
     ]
    }
   ],
   "source": [
    "print(b)"
   ]
  },
  {
   "cell_type": "code",
   "execution_count": 42,
   "metadata": {},
   "outputs": [
    {
     "name": "stdout",
     "output_type": "stream",
     "text": [
      "True\n"
     ]
    }
   ],
   "source": [
    "is_leap=calendar.isleap(2020)\n",
    "print(is_leap)"
   ]
  },
  {
   "cell_type": "code",
   "execution_count": 48,
   "metadata": {},
   "outputs": [
    {
     "ename": "TclError",
     "evalue": "invalid command name \".!canvas\"",
     "output_type": "error",
     "traceback": [
      "\u001b[1;31m---------------------------------------------------------------------------\u001b[0m",
      "\u001b[1;31mTclError\u001b[0m                                  Traceback (most recent call last)",
      "\u001b[1;32m<ipython-input-48-0b3902bbf305>\u001b[0m in \u001b[0;36m<module>\u001b[1;34m\u001b[0m\n\u001b[0;32m      4\u001b[0m     \u001b[0msquare\u001b[0m\u001b[1;33m(\u001b[0m\u001b[1;33m)\u001b[0m\u001b[1;33m\u001b[0m\u001b[1;33m\u001b[0m\u001b[0m\n\u001b[0;32m      5\u001b[0m \u001b[1;32melse\u001b[0m\u001b[1;33m:\u001b[0m\u001b[1;33m\u001b[0m\u001b[1;33m\u001b[0m\u001b[0m\n\u001b[1;32m----> 6\u001b[1;33m     \u001b[0mf\u001b[0m\u001b[1;33m.\u001b[0m\u001b[0mforward\u001b[0m\u001b[1;33m(\u001b[0m\u001b[1;36m500\u001b[0m\u001b[1;33m)\u001b[0m\u001b[1;33m\u001b[0m\u001b[1;33m\u001b[0m\u001b[0m\n\u001b[0m",
      "\u001b[1;32m~\\Anaconda3\\lib\\turtle.py\u001b[0m in \u001b[0;36mforward\u001b[1;34m(self, distance)\u001b[0m\n\u001b[0;32m   1635\u001b[0m         \u001b[1;33m(\u001b[0m\u001b[1;33m-\u001b[0m\u001b[1;36m50.00\u001b[0m\u001b[1;33m,\u001b[0m\u001b[1;36m0.00\u001b[0m\u001b[1;33m)\u001b[0m\u001b[1;33m\u001b[0m\u001b[1;33m\u001b[0m\u001b[0m\n\u001b[0;32m   1636\u001b[0m         \"\"\"\n\u001b[1;32m-> 1637\u001b[1;33m         \u001b[0mself\u001b[0m\u001b[1;33m.\u001b[0m\u001b[0m_go\u001b[0m\u001b[1;33m(\u001b[0m\u001b[0mdistance\u001b[0m\u001b[1;33m)\u001b[0m\u001b[1;33m\u001b[0m\u001b[1;33m\u001b[0m\u001b[0m\n\u001b[0m\u001b[0;32m   1638\u001b[0m \u001b[1;33m\u001b[0m\u001b[0m\n\u001b[0;32m   1639\u001b[0m     \u001b[1;32mdef\u001b[0m \u001b[0mback\u001b[0m\u001b[1;33m(\u001b[0m\u001b[0mself\u001b[0m\u001b[1;33m,\u001b[0m \u001b[0mdistance\u001b[0m\u001b[1;33m)\u001b[0m\u001b[1;33m:\u001b[0m\u001b[1;33m\u001b[0m\u001b[1;33m\u001b[0m\u001b[0m\n",
      "\u001b[1;32m~\\Anaconda3\\lib\\turtle.py\u001b[0m in \u001b[0;36m_go\u001b[1;34m(self, distance)\u001b[0m\n\u001b[0;32m   1603\u001b[0m         \u001b[1;34m\"\"\"move turtle forward by specified distance\"\"\"\u001b[0m\u001b[1;33m\u001b[0m\u001b[1;33m\u001b[0m\u001b[0m\n\u001b[0;32m   1604\u001b[0m         \u001b[0mende\u001b[0m \u001b[1;33m=\u001b[0m \u001b[0mself\u001b[0m\u001b[1;33m.\u001b[0m\u001b[0m_position\u001b[0m \u001b[1;33m+\u001b[0m \u001b[0mself\u001b[0m\u001b[1;33m.\u001b[0m\u001b[0m_orient\u001b[0m \u001b[1;33m*\u001b[0m \u001b[0mdistance\u001b[0m\u001b[1;33m\u001b[0m\u001b[1;33m\u001b[0m\u001b[0m\n\u001b[1;32m-> 1605\u001b[1;33m         \u001b[0mself\u001b[0m\u001b[1;33m.\u001b[0m\u001b[0m_goto\u001b[0m\u001b[1;33m(\u001b[0m\u001b[0mende\u001b[0m\u001b[1;33m)\u001b[0m\u001b[1;33m\u001b[0m\u001b[1;33m\u001b[0m\u001b[0m\n\u001b[0m\u001b[0;32m   1606\u001b[0m \u001b[1;33m\u001b[0m\u001b[0m\n\u001b[0;32m   1607\u001b[0m     \u001b[1;32mdef\u001b[0m \u001b[0m_rotate\u001b[0m\u001b[1;33m(\u001b[0m\u001b[0mself\u001b[0m\u001b[1;33m,\u001b[0m \u001b[0mangle\u001b[0m\u001b[1;33m)\u001b[0m\u001b[1;33m:\u001b[0m\u001b[1;33m\u001b[0m\u001b[1;33m\u001b[0m\u001b[0m\n",
      "\u001b[1;32m~\\Anaconda3\\lib\\turtle.py\u001b[0m in \u001b[0;36m_goto\u001b[1;34m(self, end)\u001b[0m\n\u001b[0;32m   3176\u001b[0m                     screen._drawline(self.drawingLineItem,\n\u001b[0;32m   3177\u001b[0m                                      \u001b[1;33m(\u001b[0m\u001b[0mstart\u001b[0m\u001b[1;33m,\u001b[0m \u001b[0mself\u001b[0m\u001b[1;33m.\u001b[0m\u001b[0m_position\u001b[0m\u001b[1;33m)\u001b[0m\u001b[1;33m,\u001b[0m\u001b[1;33m\u001b[0m\u001b[1;33m\u001b[0m\u001b[0m\n\u001b[1;32m-> 3178\u001b[1;33m                                      self._pencolor, self._pensize, top)\n\u001b[0m\u001b[0;32m   3179\u001b[0m                 \u001b[0mself\u001b[0m\u001b[1;33m.\u001b[0m\u001b[0m_update\u001b[0m\u001b[1;33m(\u001b[0m\u001b[1;33m)\u001b[0m\u001b[1;33m\u001b[0m\u001b[1;33m\u001b[0m\u001b[0m\n\u001b[0;32m   3180\u001b[0m             \u001b[1;32mif\u001b[0m \u001b[0mself\u001b[0m\u001b[1;33m.\u001b[0m\u001b[0m_drawing\u001b[0m\u001b[1;33m:\u001b[0m\u001b[1;33m\u001b[0m\u001b[1;33m\u001b[0m\u001b[0m\n",
      "\u001b[1;32m~\\Anaconda3\\lib\\turtle.py\u001b[0m in \u001b[0;36m_drawline\u001b[1;34m(self, lineitem, coordlist, fill, width, top)\u001b[0m\n\u001b[0;32m    543\u001b[0m                 \u001b[0mcl\u001b[0m\u001b[1;33m.\u001b[0m\u001b[0mappend\u001b[0m\u001b[1;33m(\u001b[0m\u001b[0mx\u001b[0m \u001b[1;33m*\u001b[0m \u001b[0mself\u001b[0m\u001b[1;33m.\u001b[0m\u001b[0mxscale\u001b[0m\u001b[1;33m)\u001b[0m\u001b[1;33m\u001b[0m\u001b[1;33m\u001b[0m\u001b[0m\n\u001b[0;32m    544\u001b[0m                 \u001b[0mcl\u001b[0m\u001b[1;33m.\u001b[0m\u001b[0mappend\u001b[0m\u001b[1;33m(\u001b[0m\u001b[1;33m-\u001b[0m\u001b[0my\u001b[0m \u001b[1;33m*\u001b[0m \u001b[0mself\u001b[0m\u001b[1;33m.\u001b[0m\u001b[0myscale\u001b[0m\u001b[1;33m)\u001b[0m\u001b[1;33m\u001b[0m\u001b[1;33m\u001b[0m\u001b[0m\n\u001b[1;32m--> 545\u001b[1;33m             \u001b[0mself\u001b[0m\u001b[1;33m.\u001b[0m\u001b[0mcv\u001b[0m\u001b[1;33m.\u001b[0m\u001b[0mcoords\u001b[0m\u001b[1;33m(\u001b[0m\u001b[0mlineitem\u001b[0m\u001b[1;33m,\u001b[0m \u001b[1;33m*\u001b[0m\u001b[0mcl\u001b[0m\u001b[1;33m)\u001b[0m\u001b[1;33m\u001b[0m\u001b[1;33m\u001b[0m\u001b[0m\n\u001b[0m\u001b[0;32m    546\u001b[0m         \u001b[1;32mif\u001b[0m \u001b[0mfill\u001b[0m \u001b[1;32mis\u001b[0m \u001b[1;32mnot\u001b[0m \u001b[1;32mNone\u001b[0m\u001b[1;33m:\u001b[0m\u001b[1;33m\u001b[0m\u001b[1;33m\u001b[0m\u001b[0m\n\u001b[0;32m    547\u001b[0m             \u001b[0mself\u001b[0m\u001b[1;33m.\u001b[0m\u001b[0mcv\u001b[0m\u001b[1;33m.\u001b[0m\u001b[0mitemconfigure\u001b[0m\u001b[1;33m(\u001b[0m\u001b[0mlineitem\u001b[0m\u001b[1;33m,\u001b[0m \u001b[0mfill\u001b[0m\u001b[1;33m=\u001b[0m\u001b[0mfill\u001b[0m\u001b[1;33m)\u001b[0m\u001b[1;33m\u001b[0m\u001b[1;33m\u001b[0m\u001b[0m\n",
      "\u001b[1;32m<string>\u001b[0m in \u001b[0;36mcoords\u001b[1;34m(self, *args, **kw)\u001b[0m\n",
      "\u001b[1;32m~\\Anaconda3\\lib\\tkinter\\__init__.py\u001b[0m in \u001b[0;36mcoords\u001b[1;34m(self, *args)\u001b[0m\n\u001b[0;32m   2467\u001b[0m         return [self.tk.getdouble(x) for x in\n\u001b[0;32m   2468\u001b[0m                            self.tk.splitlist(\n\u001b[1;32m-> 2469\u001b[1;33m                    self.tk.call((self._w, 'coords') + args))]\n\u001b[0m\u001b[0;32m   2470\u001b[0m     \u001b[1;32mdef\u001b[0m \u001b[0m_create\u001b[0m\u001b[1;33m(\u001b[0m\u001b[0mself\u001b[0m\u001b[1;33m,\u001b[0m \u001b[0mitemType\u001b[0m\u001b[1;33m,\u001b[0m \u001b[0margs\u001b[0m\u001b[1;33m,\u001b[0m \u001b[0mkw\u001b[0m\u001b[1;33m)\u001b[0m\u001b[1;33m:\u001b[0m \u001b[1;31m# Args: (val, val, ..., cnf={})\u001b[0m\u001b[1;33m\u001b[0m\u001b[1;33m\u001b[0m\u001b[0m\n\u001b[0;32m   2471\u001b[0m         \u001b[1;34m\"\"\"Internal function.\"\"\"\u001b[0m\u001b[1;33m\u001b[0m\u001b[1;33m\u001b[0m\u001b[0m\n",
      "\u001b[1;31mTclError\u001b[0m: invalid command name \".!canvas\""
     ]
    }
   ],
   "source": [
    "ola=90\n",
    "bore=8\n",
    "if False:\n",
    "    square()\n",
    "else:\n",
    "    f.forward(500)"
   ]
  },
  {
   "cell_type": "code",
   "execution_count": 53,
   "metadata": {},
   "outputs": [
    {
     "data": {
      "text/plain": [
       "True"
      ]
     },
     "execution_count": 53,
     "metadata": {},
     "output_type": "execute_result"
    }
   ],
   "source": [
    "bool(2)"
   ]
  },
  {
   "cell_type": "code",
   "execution_count": 73,
   "metadata": {},
   "outputs": [
    {
     "name": "stdout",
     "output_type": "stream",
     "text": [
      " \n",
      "my n\n"
     ]
    }
   ],
   "source": [
    "s=\"my name is shaily\"\n",
    "print(s[2])\n",
    "print(s[0:4])"
   ]
  },
  {
   "cell_type": "code",
   "execution_count": 82,
   "metadata": {},
   "outputs": [
    {
     "name": "stdout",
     "output_type": "stream",
     "text": [
      "[1, 2, 3, 2, 3, 4]\n",
      "[1, 2, 3, 2, 3, 4]\n",
      "3\n",
      "[1, 2, 3, 6]\n",
      "[2, 3, 7, 4]\n",
      "[2, 3, 4, 7]\n",
      "2\n",
      "3\n",
      "4\n",
      "7\n",
      "2\n",
      "[1, 2, 3]\n",
      "[4, 2, 2]\n",
      "[1, 2]\n",
      "[2, 3]\n",
      "[3, 2]\n",
      "[2, 3]\n",
      "[3, 4]\n",
      "[4]\n"
     ]
    }
   ],
   "source": [
    "#list=[]\n",
    "x=[1,2,3]\n",
    "y=[2,3,4]\n",
    "z=x+y\n",
    "print(x+y)\n",
    "print(z)\n",
    "print(x[2])\n",
    "x.append(6)\n",
    "print(x)\n",
    "y.insert(2,7)\n",
    "print(y)\n",
    "y.sort()\n",
    "print(y)\n",
    "\n",
    "for blue in y:\n",
    "    print(blue)\n",
    "print(z[-len(z)+1]) \n",
    "print(z[0:3])\n",
    "print(z[::-2])\n",
    "\n",
    "for i in range(len(z)):\n",
    "    print(z[i:i+2])"
   ]
  },
  {
   "cell_type": "code",
   "execution_count": 89,
   "metadata": {},
   "outputs": [
    {
     "name": "stdout",
     "output_type": "stream",
     "text": [
      "['f', 'g', 'h', 'j']\n",
      "f and g and h and j\n"
     ]
    }
   ],
   "source": [
    "# can't replace values in tuples\n",
    "# tuples=()\n",
    "so='f,g,h,j'\n",
    "lelo=so.split(\",\")\n",
    "print(lelo)\n",
    "\n",
    "joined=' and '.join(lelo)\n",
    "print(joined)"
   ]
  },
  {
   "cell_type": "code",
   "execution_count": 98,
   "metadata": {},
   "outputs": [
    {
     "name": "stdout",
     "output_type": "stream",
     "text": [
      "[(6, 7, 8, 9, 10), (30, 4, 5, 6, 77)]\n",
      "6\n",
      "10\n",
      "30\n",
      "77\n"
     ]
    }
   ],
   "source": [
    "ha=(6,7,8,9,10)\n",
    "fg=(30,4,5,6,77)\n",
    "lol=[ha,fg]\n",
    "print(lol)\n",
    "\n",
    "one,to,thr,fou,fi=ha\n",
    "#print(one)\n",
    "#print(fi)\n",
    "\n",
    "for one,to,thr,fou,fi in lol:\n",
    "    print(one)\n",
    "    print(fi)"
   ]
  },
  {
   "cell_type": "code",
   "execution_count": 106,
   "metadata": {},
   "outputs": [
    {
     "name": "stdout",
     "output_type": "stream",
     "text": [
      "{1, 2}\n",
      "{1, 2, 3}\n"
     ]
    }
   ],
   "source": [
    "#sets are non iterable\n",
    "#sets donot have duplicates\n",
    "#sets are unordered\n",
    "#sets=={}\n",
    "f={1,1,2}\n",
    "print(f)\n",
    "d=[4,5,6]\n",
    "f.add(3)\n",
    "print(f)\n",
    "\n",
    "\n"
   ]
  },
  {
   "cell_type": "code",
   "execution_count": 18,
   "metadata": {},
   "outputs": [
    {
     "name": "stdout",
     "output_type": "stream",
     "text": [
      "{'gh', 'fg', 'fd', 'ff'}\n",
      "{'ff'}\n",
      "{'gh', 'fg'}\n",
      "{'fd'}\n",
      "set()\n",
      "{'gh', 'fg', 'ff'}\n"
     ]
    }
   ],
   "source": [
    "b1={\"ff\",\"fg\",\"gh\"}\n",
    "b2={\"ff\",\"fd\"}\n",
    "\n",
    "print(b1.union(b2))\n",
    "print(b1.intersection(b2))\n",
    "print(b1.difference(b2))\n",
    "print(b2.difference(b1))\n",
    "set.clear(b2)\n",
    "print(b2)\n",
    "print(b1.difference(b2))\n"
   ]
  },
  {
   "cell_type": "code",
   "execution_count": 125,
   "metadata": {},
   "outputs": [
    {
     "name": "stdout",
     "output_type": "stream",
     "text": [
      "[1, 'A']\n",
      "[2, 'B']\n",
      "None\n"
     ]
    }
   ],
   "source": [
    "dict={'first':[1,\"A\"],'sec':[2,\"B\"],'thi':3,'fr':4}\n",
    "print(dict['first'])\n",
    "#print(dict['hello']);\n",
    "print(dict.get('sec'))\n",
    "\n",
    "print(dict.get('hello'))"
   ]
  },
  {
   "cell_type": "code",
   "execution_count": 1,
   "metadata": {},
   "outputs": [
    {
     "name": "stdout",
     "output_type": "stream",
     "text": [
      "['I', 'am', 'a', 'girl,', 'like', 'i', 'am', 'a', 'student', ',', 'student', 'is', 'a', 'student', 'always']\n",
      "{'I': 1, 'am': 2, 'a': 3, 'girl,': 1, 'like': 1, 'i': 1, 'student': 3, ',': 1, 'is': 1, 'always': 1}\n",
      "{'I': 1, 'am': 2, 'a': 3, 'like': 1, 'i': 1, 'student': 3, ',': 1, 'is': 1, 'always': 1}\n"
     ]
    }
   ],
   "source": [
    "string=\"I am a girl, like i am a student , student is a student always\"\n",
    "deltd=string.split(\" \")\n",
    "print(deltd)\n",
    "len(deltd)\n",
    "#for i in deltd:\n",
    " #   count(i) in deltd\n",
    "    \n",
    "my_dict={i:deltd.count(i) for i in deltd}    \n",
    "print(my_dict)\n",
    "#new=set(my_dict)\n",
    "#print(new)\n",
    "#my_dict.items()\n",
    "my_dict.pop('girl,')\n",
    "print(my_dict)"
   ]
  },
  {
   "cell_type": "code",
   "execution_count": 22,
   "metadata": {},
   "outputs": [
    {
     "name": "stdout",
     "output_type": "stream",
     "text": [
      "{'I': 1, 'am': 2, 'a': 3, 'girl': 1, ',': 2, 'like': 1, 'i': 1, 'student': 3, 'is': 1, 'always': 1}\n",
      "['I', 'am', 'a', 'girl', ',', 'like', 'i', 'am', 'a', 'student', ',', 'student', 'is', 'a', 'student', 'always']\n"
     ]
    }
   ],
   "source": [
    "set2=\"I am a girl , like i am a student , student is a student always\"\n",
    "set1=set2.split(\" \")\n",
    "dic={i:set1.count(i) for i in set1}\n",
    "print(dic)\n",
    "print(set1)"
   ]
  },
  {
   "cell_type": "code",
   "execution_count": 23,
   "metadata": {},
   "outputs": [
    {
     "name": "stdout",
     "output_type": "stream",
     "text": [
      "{'I': 1, 'am': 2, 'a': 3, ',': 2, 'like': 1, 'i': 1, 'student': 3, 'is': 1, 'always': 1}\n",
      "{'I': 1, 'am': 2, 'a': 3, ',': 2, 'like': 1, 'i': 1, 'student': 3, 'is': 1, 'always': 1, 'shaily jain': 90}\n"
     ]
    }
   ],
   "source": [
    "dic.pop('girl')\n",
    "print(dic)\n",
    "sum(dic.values())\n",
    "dic['shaily jain']=90\n",
    "print(dic)"
   ]
  },
  {
   "cell_type": "code",
   "execution_count": 36,
   "metadata": {},
   "outputs": [
    {
     "data": {
      "text/plain": [
       "[',', 'I', 'a', 'always', 'am', 'i', 'is', 'like', 'shaily jain', 'student']"
      ]
     },
     "execution_count": 36,
     "metadata": {},
     "output_type": "execute_result"
    }
   ],
   "source": [
    "sorted(list(dic.keys()))"
   ]
  },
  {
   "cell_type": "code",
   "execution_count": 41,
   "metadata": {},
   "outputs": [
    {
     "name": "stdout",
     "output_type": "stream",
     "text": [
      "{'like dumped me', 'i dumped me', 'am dumped me', 'student dumped me', 'is dumped me', 'I dumped me', 'girl dumped me', ', dumped me', 'always dumped me', 'a dumped me'}\n"
     ]
    }
   ],
   "source": [
    "print({xo +' dumped me' for xo in set1})"
   ]
  },
  {
   "cell_type": "code",
   "execution_count": 48,
   "metadata": {},
   "outputs": [
    {
     "name": "stdout",
     "output_type": "stream",
     "text": [
      "['mov5', 'mov4']\n"
     ]
    }
   ],
   "source": [
    "dict2={\"mov1\":2,\"mov5\":20,\"mov4\":19,\"mov3\":4,\"mov2\":9}\n",
    "\n",
    "top=[]\n",
    "for movies in dict2:\n",
    "    if dict2[movies]>10:\n",
    "        top.append(movies)\n",
    "print(top)    "
   ]
  },
  {
   "cell_type": "code",
   "execution_count": 52,
   "metadata": {},
   "outputs": [
    {
     "name": "stdout",
     "output_type": "stream",
     "text": [
      "['mov5', 'mov4']\n"
     ]
    }
   ],
   "source": [
    "print([i for i in dict2 if dict2[i]>10])"
   ]
  },
  {
   "cell_type": "code",
   "execution_count": 54,
   "metadata": {},
   "outputs": [],
   "source": [
    "import re"
   ]
  },
  {
   "cell_type": "code",
   "execution_count": 82,
   "metadata": {},
   "outputs": [
    {
     "name": "stdout",
     "output_type": "stream",
     "text": [
      "<re.Match object; span=(18, 33), match='Jain123@gmail.c'>\n"
     ]
    }
   ],
   "source": [
    "text=\"My name is Shaily Jain123@gmail.com is good girl ABEY.LLLss@net.in\"\n",
    "pattern=re.compile(\"[a-zA-Z0-9]+@[a-zM-Z]+\\.+[a-zM-Z]\")\n",
    "search=pattern.search(text)\n",
    "print(search)"
   ]
  },
  {
   "cell_type": "code",
   "execution_count": 85,
   "metadata": {},
   "outputs": [
    {
     "name": "stdout",
     "output_type": "stream",
     "text": [
      "['Jain123@gmail.c', 'ABEY.LLLss@net.i']\n"
     ]
    }
   ],
   "source": [
    "text=\"My name is Shaily Jain123@gmail.com is good girl ABEY.LLLss@net.in\"\n",
    "pattern=re.compile(\"[a-zA-Z0-9\\.]+@[a-zM-Z]+\\.+[a-zM-Z]\")\n",
    "search=pattern.findall(text)\n",
    "print(search)"
   ]
  },
  {
   "cell_type": "code",
   "execution_count": 99,
   "metadata": {},
   "outputs": [
    {
     "name": "stdout",
     "output_type": "stream",
     "text": [
      "2020-04-25\n",
      "1997-05-28\n",
      "8368\n",
      "2020-05-05\n"
     ]
    }
   ],
   "source": [
    "import datetime\n",
    "today=datetime.date.today()\n",
    "print(today)\n",
    "bday=datetime.date(1997,5,28)\n",
    "print(bday)\n",
    "age_days=(today-bday).days\n",
    "print(age_days)\n",
    "tdelta=datetime.timedelta(days=10)\n",
    "print(today+tdelta)"
   ]
  },
  {
   "cell_type": "code",
   "execution_count": 103,
   "metadata": {},
   "outputs": [
    {
     "name": "stdout",
     "output_type": "stream",
     "text": [
      "2020-04-25 13:14:07.806888\n"
     ]
    }
   ],
   "source": [
    "#datetime.date(Y,M,D)\n",
    "#datetime.time(h,m,s,ms)\n",
    "#datetime.datetime(Y,M,D,h,m,s,ms)\n",
    "print(datetime.datetime.now())"
   ]
  },
  {
   "cell_type": "code",
   "execution_count": 113,
   "metadata": {},
   "outputs": [],
   "source": [
    "from datetime import datetime,timezone\n",
    "#yes=datetime.datetime.now(tz=pytz.UTC)\n",
    "#for tz in pytz.all_timezones:\n",
    " #   print(tz)"
   ]
  },
  {
   "cell_type": "code",
   "execution_count": 118,
   "metadata": {},
   "outputs": [
    {
     "name": "stdout",
     "output_type": "stream",
     "text": [
      "May 28, 1997\n"
     ]
    },
    {
     "ename": "AttributeError",
     "evalue": "type object 'datetime.datetime' has no attribute 'datetime'",
     "output_type": "error",
     "traceback": [
      "\u001b[1;31m---------------------------------------------------------------------------\u001b[0m",
      "\u001b[1;31mAttributeError\u001b[0m                            Traceback (most recent call last)",
      "\u001b[1;32m<ipython-input-118-38d101e85ffa>\u001b[0m in \u001b[0;36m<module>\u001b[1;34m\u001b[0m\n\u001b[0;32m      1\u001b[0m \u001b[0mprint\u001b[0m\u001b[1;33m(\u001b[0m\u001b[0mbday\u001b[0m\u001b[1;33m.\u001b[0m\u001b[0mstrftime\u001b[0m\u001b[1;33m(\u001b[0m\u001b[1;34m'%B %d, %Y'\u001b[0m\u001b[1;33m)\u001b[0m\u001b[1;33m)\u001b[0m\u001b[1;33m\u001b[0m\u001b[1;33m\u001b[0m\u001b[0m\n\u001b[0;32m      2\u001b[0m \u001b[1;33m\u001b[0m\u001b[0m\n\u001b[1;32m----> 3\u001b[1;33m \u001b[0mdatetime\u001b[0m\u001b[1;33m.\u001b[0m\u001b[0mdatetime\u001b[0m\u001b[1;33m.\u001b[0m\u001b[0mstrptime\u001b[0m\u001b[1;33m(\u001b[0m\u001b[1;34m'May 28, 1997'\u001b[0m\u001b[1;33m,\u001b[0m\u001b[1;34m'%B %d, %Y'\u001b[0m\u001b[1;33m)\u001b[0m\u001b[1;33m\u001b[0m\u001b[1;33m\u001b[0m\u001b[0m\n\u001b[0m",
      "\u001b[1;31mAttributeError\u001b[0m: type object 'datetime.datetime' has no attribute 'datetime'"
     ]
    }
   ],
   "source": [
    "print(bday.strftime('%B %d, %Y'))\n",
    "\n",
    "datetime.datetime.strptime('May 28, 1997','%B %d, %Y')\n"
   ]
  },
  {
   "cell_type": "markdown",
   "metadata": {},
   "source": [
    "## Data Extraction from Beautiful Soup"
   ]
  },
  {
   "cell_type": "code",
   "execution_count": 120,
   "metadata": {},
   "outputs": [
    {
     "name": "stdout",
     "output_type": "stream",
     "text": [
      "Requirement already satisfied: beautiful in c:\\users\\nf_hr\\anaconda3\\lib\\site-packages (0.0.2)\n",
      "Requirement already satisfied: soup in c:\\users\\nf_hr\\anaconda3\\lib\\site-packages (0.1.0)\n",
      "Note: you may need to restart the kernel to use updated packages.\n"
     ]
    }
   ],
   "source": [
    "pip install beautiful soup"
   ]
  },
  {
   "cell_type": "code",
   "execution_count": 122,
   "metadata": {},
   "outputs": [
    {
     "name": "stdout",
     "output_type": "stream",
     "text": [
      "Requirement already satisfied: requests in c:\\users\\nf_hr\\anaconda3\\lib\\site-packages (2.22.0)\n",
      "Requirement already satisfied: certifi>=2017.4.17 in c:\\users\\nf_hr\\anaconda3\\lib\\site-packages (from requests) (2019.9.11)\n",
      "Requirement already satisfied: urllib3!=1.25.0,!=1.25.1,<1.26,>=1.21.1 in c:\\users\\nf_hr\\anaconda3\\lib\\site-packages (from requests) (1.24.2)\n",
      "Requirement already satisfied: chardet<3.1.0,>=3.0.2 in c:\\users\\nf_hr\\anaconda3\\lib\\site-packages (from requests) (3.0.4)\n",
      "Requirement already satisfied: idna<2.9,>=2.5 in c:\\users\\nf_hr\\anaconda3\\lib\\site-packages (from requests) (2.8)\n",
      "Note: you may need to restart the kernel to use updated packages.\n"
     ]
    }
   ],
   "source": [
    "pip install requests"
   ]
  },
  {
   "cell_type": "code",
   "execution_count": 1,
   "metadata": {},
   "outputs": [],
   "source": [
    "from bs4 import BeautifulSoup\n",
    "import pandas\n",
    "import requests\n",
    "page=requests.get(\"https://forecast.weather.gov/MapClick.php?lat=34.05349000000007&lon=-118.24531999999999#.XqPwp2gzZPY\")\n",
    "soup=BeautifulSoup(page.content,'html.parser')\n",
    "#print(soup)\n",
    "#print(soup.find_all('a'))"
   ]
  },
  {
   "cell_type": "code",
   "execution_count": 2,
   "metadata": {},
   "outputs": [
    {
     "name": "stdout",
     "output_type": "stream",
     "text": [
      "<div class=\"tombstone-container\">\n",
      "<p class=\"period-name\">Saturday<br/><br/></p>\n",
      "<p><img alt=\"Saturday: Sunny, with a high near 92. East northeast wind 5 to 10 mph becoming southwest in the afternoon. \" class=\"forecast-icon\" src=\"newimages/medium/few.png\" title=\"Saturday: Sunny, with a high near 92. East northeast wind 5 to 10 mph becoming southwest in the afternoon. \"/></p><p class=\"short-desc\">Sunny</p><p class=\"temp temp-high\">High: 92 °F</p></div>\n"
     ]
    }
   ],
   "source": [
    "week=soup.find(id='seven-day-forecast-body')\n",
    "#print(week)\n",
    "#print(week.find_all('li'))\n",
    "items=week.find_all(class_=\"tombstone-container\")\n",
    "print(items[2])"
   ]
  },
  {
   "cell_type": "code",
   "execution_count": 3,
   "metadata": {},
   "outputs": [
    {
     "name": "stdout",
     "output_type": "stream",
     "text": [
      "SaturdayNight\n",
      "Mostly Clear\n",
      "High: 92 °F\n"
     ]
    }
   ],
   "source": [
    "print(items[3].find(class_='period-name').get_text())\n",
    "print(items[3].find(class_='short-desc').get_text())\n",
    "print(items[2].find(class_='temp').get_text())"
   ]
  },
  {
   "cell_type": "code",
   "execution_count": 13,
   "metadata": {},
   "outputs": [
    {
     "name": "stdout",
     "output_type": "stream",
     "text": [
      "['NOW until6:00pm Sat', 'Overnight', 'Saturday', 'SaturdayNight', 'Sunday', 'SundayNight', 'Monday', 'MondayNight', 'Tuesday']\n",
      "['Heat Advisory', 'Clear', 'Sunny', 'Mostly Clear', 'Mostly Sunny', 'Mostly Clear', 'Sunny', 'Mostly Clear', 'Sunny']\n"
     ]
    },
    {
     "ename": "AttributeError",
     "evalue": "'NoneType' object has no attribute 'get_text'",
     "output_type": "error",
     "traceback": [
      "\u001b[1;31m---------------------------------------------------------------------------\u001b[0m",
      "\u001b[1;31mAttributeError\u001b[0m                            Traceback (most recent call last)",
      "\u001b[1;32m<ipython-input-13-3cfec0471cff>\u001b[0m in \u001b[0;36m<module>\u001b[1;34m\u001b[0m\n\u001b[0;32m      4\u001b[0m \u001b[0mprint\u001b[0m\u001b[1;33m(\u001b[0m\u001b[0mperiod_name\u001b[0m\u001b[1;33m)\u001b[0m\u001b[1;33m\u001b[0m\u001b[1;33m\u001b[0m\u001b[0m\n\u001b[0;32m      5\u001b[0m \u001b[0mprint\u001b[0m\u001b[1;33m(\u001b[0m\u001b[0mshort_desc\u001b[0m\u001b[1;33m)\u001b[0m\u001b[1;33m\u001b[0m\u001b[1;33m\u001b[0m\u001b[0m\n\u001b[1;32m----> 6\u001b[1;33m \u001b[0mtemp\u001b[0m\u001b[1;33m=\u001b[0m\u001b[1;33m[\u001b[0m\u001b[0mitem\u001b[0m\u001b[1;33m.\u001b[0m\u001b[0mfind\u001b[0m\u001b[1;33m(\u001b[0m\u001b[0mclass_\u001b[0m\u001b[1;33m=\u001b[0m\u001b[1;34m'temp'\u001b[0m\u001b[1;33m)\u001b[0m\u001b[1;33m.\u001b[0m\u001b[0mget_text\u001b[0m\u001b[1;33m(\u001b[0m\u001b[1;33m)\u001b[0m \u001b[1;32mfor\u001b[0m \u001b[0mitem\u001b[0m \u001b[1;32min\u001b[0m \u001b[0mitems\u001b[0m\u001b[1;33m]\u001b[0m\u001b[1;33m\u001b[0m\u001b[1;33m\u001b[0m\u001b[0m\n\u001b[0m\u001b[0;32m      7\u001b[0m \u001b[1;33m\u001b[0m\u001b[0m\n\u001b[0;32m      8\u001b[0m \u001b[0mprint\u001b[0m\u001b[1;33m(\u001b[0m\u001b[0mtemp\u001b[0m\u001b[1;33m)\u001b[0m\u001b[1;33m\u001b[0m\u001b[1;33m\u001b[0m\u001b[0m\n",
      "\u001b[1;32m<ipython-input-13-3cfec0471cff>\u001b[0m in \u001b[0;36m<listcomp>\u001b[1;34m(.0)\u001b[0m\n\u001b[0;32m      4\u001b[0m \u001b[0mprint\u001b[0m\u001b[1;33m(\u001b[0m\u001b[0mperiod_name\u001b[0m\u001b[1;33m)\u001b[0m\u001b[1;33m\u001b[0m\u001b[1;33m\u001b[0m\u001b[0m\n\u001b[0;32m      5\u001b[0m \u001b[0mprint\u001b[0m\u001b[1;33m(\u001b[0m\u001b[0mshort_desc\u001b[0m\u001b[1;33m)\u001b[0m\u001b[1;33m\u001b[0m\u001b[1;33m\u001b[0m\u001b[0m\n\u001b[1;32m----> 6\u001b[1;33m \u001b[0mtemp\u001b[0m\u001b[1;33m=\u001b[0m\u001b[1;33m[\u001b[0m\u001b[0mitem\u001b[0m\u001b[1;33m.\u001b[0m\u001b[0mfind\u001b[0m\u001b[1;33m(\u001b[0m\u001b[0mclass_\u001b[0m\u001b[1;33m=\u001b[0m\u001b[1;34m'temp'\u001b[0m\u001b[1;33m)\u001b[0m\u001b[1;33m.\u001b[0m\u001b[0mget_text\u001b[0m\u001b[1;33m(\u001b[0m\u001b[1;33m)\u001b[0m \u001b[1;32mfor\u001b[0m \u001b[0mitem\u001b[0m \u001b[1;32min\u001b[0m \u001b[0mitems\u001b[0m\u001b[1;33m]\u001b[0m\u001b[1;33m\u001b[0m\u001b[1;33m\u001b[0m\u001b[0m\n\u001b[0m\u001b[0;32m      7\u001b[0m \u001b[1;33m\u001b[0m\u001b[0m\n\u001b[0;32m      8\u001b[0m \u001b[0mprint\u001b[0m\u001b[1;33m(\u001b[0m\u001b[0mtemp\u001b[0m\u001b[1;33m)\u001b[0m\u001b[1;33m\u001b[0m\u001b[1;33m\u001b[0m\u001b[0m\n",
      "\u001b[1;31mAttributeError\u001b[0m: 'NoneType' object has no attribute 'get_text'"
     ]
    }
   ],
   "source": [
    "period_name=[item.find(class_='period-name').get_text() for item in items]\n",
    "short_desc=[item.find(class_='short-desc').get_text() for item in items]\n",
    "#temp=[item.find(class_='temp').get_text() for item in items]\n",
    "print(period_name)\n",
    "print(short_desc)\n",
    "temp=[item.find(class_='temp').get_text() for item in items]\n",
    "\n",
    "print(temp)"
   ]
  },
  {
   "cell_type": "code",
   "execution_count": 16,
   "metadata": {},
   "outputs": [
    {
     "name": "stdout",
     "output_type": "stream",
     "text": [
      "                period     short_desc           temp\n",
      "0  NOW until6:00pm Sat  Heat Advisory           None\n",
      "1            Overnight          Clear   [Low: 65 °F]\n",
      "2             Saturday          Sunny  [High: 92 °F]\n",
      "3        SaturdayNight   Mostly Clear   [Low: 65 °F]\n",
      "4               Sunday   Mostly Sunny  [High: 88 °F]\n",
      "5          SundayNight   Mostly Clear   [Low: 64 °F]\n",
      "6               Monday          Sunny  [High: 86 °F]\n",
      "7          MondayNight   Mostly Clear   [Low: 63 °F]\n",
      "8              Tuesday          Sunny  [High: 87 °F]\n"
     ]
    }
   ],
   "source": [
    "import pandas as pd\n",
    "temp_data=pd.DataFrame(\n",
    "    {'period': period_name,\n",
    "     'short_desc':short_desc,\n",
    "     'temp':temp\n",
    "    }\n",
    ")\n",
    "print(temp_data)\n",
    "temp_data.to_csv('temperature2.csv')"
   ]
  },
  {
   "cell_type": "code",
   "execution_count": 32,
   "metadata": {},
   "outputs": [
    {
     "name": "stdout",
     "output_type": "stream",
     "text": [
      "{'gh', 'fg', 'ff'}\n",
      "{'zz', 'fd', 'ff'}\n",
      "{'zz', 'fd', 'gg', 'ff'}\n",
      "[('gh', 'zz'), ('fg', 'fd'), ('ff', 'gg')]\n",
      "[('gh', 'fg', 'ff'), ('zz', 'fd', 'gg')]\n"
     ]
    }
   ],
   "source": [
    "print(b1)\n",
    "b2={\"ff\",\"fd\",\"zz\"}\n",
    "print(b2)\n",
    "b2.add(\"gg\")\n",
    "print(b2)\n",
    "\n",
    "zipped=list(zip(b1,b2))\n",
    "print(zipped)\n",
    "\n",
    "unzipped=list(zip(*zipped))\n",
    "print(unzipped)"
   ]
  },
  {
   "cell_type": "code",
   "execution_count": 38,
   "metadata": {},
   "outputs": [
    {
     "name": "stdout",
     "output_type": "stream",
     "text": [
      "['i bought 1 apple for 40', 'i bought 2 orange for 25', 'i bought 3 guava for 30']\n"
     ]
    }
   ],
   "source": [
    "fruits={'apple','orange','guava'}\n",
    "no={1,2,3}\n",
    "pay={30,40,25}\n",
    "\n",
    "blur=[]\n",
    "for (l1,l2,l3) in zip(fruits,no,pay):\n",
    "    l1,l2,l3=str(l1),str(l2),str(l3)\n",
    "    sin='i bought '+ l2+\" \"+l1+\" for \"+ l3\n",
    "    blur.append(sin)\n",
    "print(blur)    \n",
    "    "
   ]
  },
  {
   "cell_type": "markdown",
   "metadata": {},
   "source": [
    "## TIK TAC TOE GAME DEVELOPMENT"
   ]
  },
  {
   "cell_type": "code",
   "execution_count": 40,
   "metadata": {},
   "outputs": [],
   "source": [
    "#planning\n",
    "#display board\n",
    "#play game\n",
    "#choose win\n",
    "    #rows\n",
    "    #columns\n",
    "    #diagonales\n",
    "#choose tie\n"
   ]
  },
  {
   "cell_type": "code",
   "execution_count": null,
   "metadata": {},
   "outputs": [
    {
     "name": "stdout",
     "output_type": "stream",
     "text": [
      "- | - | -\n",
      "- | - | -\n",
      "- | - | -\n",
      "X's turn'\n"
     ]
    }
   ],
   "source": [
    "\n",
    "#----- Global Variable---\n",
    "\n",
    "#if game is still going\n",
    "game_running=True\n",
    "\n",
    "#winner win won\n",
    "winner=None\n",
    "\n",
    "#Whise turn it is\n",
    "current_player=\"X\"\n",
    "\n",
    "\n",
    "\n",
    "\n",
    "board=[\"-\",\"-\",\"-\",\n",
    "       \"-\",\"-\",\"-\",\n",
    "       \"-\",\"-\",\"-\"\n",
    "      ]\n",
    "\n",
    "\n",
    "def display_board():\n",
    "    print(board[0]+ \" | \" + board[1] + \" | \" + board[2])\n",
    "    print(board[3]+ \" | \" + board[4] + \" | \" + board[5])\n",
    "    print(board[6]+ \" | \" + board[7] + \" | \" + board[8])\n",
    "    \n",
    "\n",
    "#display intial board\n",
    "#display_board()    \n",
    "\n",
    "def handle_turn(player):\n",
    "    \n",
    "    print(player+\"'s turn'\")\n",
    "    position=input('Choose a postition from 1-9')\n",
    "    valid=False   \n",
    "    while not valid:\n",
    "\n",
    "        while position not in (\"1\",\"2\",\"3\",\"4\",\"5\",\"6\",\"7\",\"8\",\"9\"):\n",
    "            position=input('Invalid Position.Choose a postition from 1-9')\n",
    "\n",
    "        position=int(position)-1\n",
    "\n",
    "        if board[position]==\"-\":\n",
    "            valid=True\n",
    "        else:\n",
    "            print(\"You can't go there, Go again\")\n",
    "\n",
    "    board[position]=player\n",
    "    display_board()\n",
    "\n",
    "    \n",
    "\n",
    "\n",
    "#While playing a game\n",
    "def play_game():\n",
    "    display_board()\n",
    "    while game_running:\n",
    "        handle_turn(current_player)\n",
    "        check_if_game_over()\n",
    "        flip_player()\n",
    "        \n",
    "#game has ended\n",
    "\n",
    "\n",
    "def check_if_game_over():\n",
    "    check_if_win()\n",
    "    check_if_tie()\n",
    "    \n",
    "def check_if_win():\n",
    "    #Set up global winner\n",
    "    global winner\n",
    "    \n",
    "    \n",
    "    #check rows\n",
    "    row_winner=check_rows()\n",
    "    #check columns\n",
    "    column_winner=check_columns()\n",
    "    #check diagonals\n",
    "    diagonal_winner=check_diagonals()\n",
    "    if row_winner:\n",
    "        winner=row_winner\n",
    "    elif column_winner:\n",
    "        winner=column_winner\n",
    "    elif diagonal_winner:\n",
    "        winner=diagonal_winner\n",
    "    else:\n",
    "        winner=None\n",
    "        \n",
    "    return\n",
    "\n",
    "def check_rows():\n",
    "    \n",
    "    global game_running\n",
    "    \n",
    "    #check if any row has same value\n",
    "    row_1=board[0]==board[1]==board[2]!=\"-\"\n",
    "    row_2=board[3]==board[4]==board[5]!=\"-\"\n",
    "    row_3=board[6]==board[7]==board[8]!=\"-\"\n",
    "    #if any row has the match, flag there is a match\n",
    "    \n",
    "    if row_1 or row_2 or row_3:\n",
    "        game_running=False\n",
    "    \n",
    "    #return player name    \n",
    "    if row_1:\n",
    "        return board[0]\n",
    "    \n",
    "    elif row_2:\n",
    "        return board[3]\n",
    "    elif row_3:\n",
    "        return board[6]\n",
    "        \n",
    "    \n",
    "    return\n",
    "\n",
    "def check_columns():\n",
    "    global game_running\n",
    "    \n",
    "    #check if any row has same value\n",
    "    col_1=board[0]==board[3]==board[6]!=\"-\"\n",
    "    col_2=board[1]==board[4]==board[7]!=\"-\"\n",
    "    col_3=board[2]==board[5]==board[8]!=\"-\"\n",
    "    #if any row has the match, flag there is a match\n",
    "    \n",
    "    if col_1 or col_2 or col_3:\n",
    "        game_running=False\n",
    "    \n",
    "    #return player name    \n",
    "    if col_1:\n",
    "        return board[0]\n",
    "    \n",
    "    elif col_2:\n",
    "        return board[1]\n",
    "    elif col_3:\n",
    "        return board[3]\n",
    "        \n",
    "    \n",
    "    return\n",
    "\n",
    "    \n",
    "def check_diagonals():\n",
    "    global game_running\n",
    "    \n",
    "    #check if any row has same value\n",
    "    diag_1=board[0]==board[4]==board[8]!=\"-\"\n",
    "    diag_2=board[2]==board[4]==board[6]!=\"-\"\n",
    "    \n",
    "    #if any row has the match, flag there is a match\n",
    "    \n",
    "    if diag_1 or diag_2:\n",
    "        game_running=False\n",
    "    \n",
    "    #return player name    \n",
    "    if diag_1:\n",
    "        return board[0]\n",
    "    \n",
    "    elif diag_2:\n",
    "        return board[2]\n",
    "        \n",
    "    \n",
    "    return\n",
    "def check_if_tie():\n",
    "    global game_running\n",
    "    if \"-\" not in board:\n",
    "        game_running=False\n",
    "    return\n",
    "\n",
    "\n",
    "def flip_player():\n",
    "    global current_player\n",
    "    if current_player==\"X\":\n",
    "        current_player=\"O\"\n",
    "    elif current_player==\"O\":\n",
    "        current_player=\"X\"\n",
    "    \n",
    "    return\n",
    "\n",
    "play_game()\n",
    "if winner==\"X\" or winner==\"O\":\n",
    "    print(winner+\" has won.\")\n",
    "elif winner==None:    \n",
    "    print(\"It is a tie\")\n"
   ]
  },
  {
   "cell_type": "code",
   "execution_count": null,
   "metadata": {},
   "outputs": [],
   "source": []
  },
  {
   "cell_type": "code",
   "execution_count": null,
   "metadata": {},
   "outputs": [],
   "source": []
  },
  {
   "cell_type": "code",
   "execution_count": 27,
   "metadata": {},
   "outputs": [],
   "source": []
  },
  {
   "cell_type": "code",
   "execution_count": null,
   "metadata": {},
   "outputs": [],
   "source": []
  },
  {
   "cell_type": "code",
   "execution_count": 35,
   "metadata": {},
   "outputs": [],
   "source": [
    "import pandas as pd\n",
    "import smtplib\n",
    "from email.mime.multipart import MIMEMultipart\n",
    "from email.mime.text import MIMEText\n",
    "from email.mime.base import MIMEBase\n",
    "from email import encoders\n",
    "\n",
    "e=pd.read_excel(r\"C:\\Users\\NF_HR\\Email.xlsx\")\n"
   ]
  },
  {
   "cell_type": "markdown",
   "metadata": {},
   "source": [
    "## Gmail Automation"
   ]
  },
  {
   "cell_type": "code",
   "execution_count": 34,
   "metadata": {},
   "outputs": [
    {
     "data": {
      "text/plain": [
       "(221, b'2.0.0 closing connection r28sm15800286pfg.186 - gsmtp')"
      ]
     },
     "execution_count": 34,
     "metadata": {},
     "output_type": "execute_result"
    }
   ],
   "source": [
    "import pandas as pd\n",
    "import smtplib\n",
    "\n",
    "e=pd.read_excel(r\"C:\\Users\\NF_HR\\Email.xlsx\")\n",
    "\n",
    "#e.head()\n",
    "emailids=e['Emails'].values\n",
    "messages=e['Msg'].values\n",
    "sbj=e['Subject'].values\n",
    "#print(emailids[2])\n",
    "\n",
    "server=smtplib.SMTP('smtp.gmail.com',587)\n",
    "server.starttls()\n",
    "\n",
    "server.login(\"dsyeco@gmail.com\",\"N@m0karmantra\")\n",
    "\n",
    "for i in range(0):\n",
    "    #msg=\"Hello, This is a computer generated email from dsyeco@gmail.com\"\n",
    "    #subject=\"Trial Email\"\n",
    "    body=\"subject: {}\\n\\n{} \".format(sbj[i],messages[i])\n",
    "    server.sendmail(\"dsyeco@gmail.com\",emailids[i],body)\n",
    "    print(emailids)\n",
    "    \n",
    "server.quit() \n",
    "\n"
   ]
  },
  {
   "cell_type": "code",
   "execution_count": 1,
   "metadata": {},
   "outputs": [
    {
     "name": "stdout",
     "output_type": "stream",
     "text": [
      "Mail Sent\n"
     ]
    }
   ],
   "source": [
    "import smtplib\n",
    "from email.mime.multipart import MIMEMultipart\n",
    "from email.mime.text import MIMEText\n",
    "from email.mime.base import MIMEBase\n",
    "from email import encoders\n",
    "mail_content = '''Hello,\n",
    "This is a test mail.\n",
    "In this mail we are sending some attachments.\n",
    "The mail is sent using Python SMTP library.\n",
    "Thank You\n",
    "'''\n",
    "#The mail addresses and password\n",
    "sender_address = 'dsyeco@gmail.com'\n",
    "sender_pass = 'N@m0karmantra'\n",
    "receiver_address = 'shaily.jain@nowfloats.com'\n",
    "#Setup the MIME\n",
    "message = MIMEMultipart()\n",
    "message['From'] = sender_address\n",
    "message['To'] = receiver_address\n",
    "message['Subject'] = 'A test mail sent by Python. It has an attachment.'\n",
    "#The subject line\n",
    "#The body and the attachments for the mail\n",
    "message.attach(MIMEText(mail_content, 'plain'))\n",
    "attach_file_name = 'Market segmentation book.pdf'\n",
    "attach_file = open(attach_file_name, 'rb') # Open the file as binary mode\n",
    "payload = MIMEBase('application', 'octate-stream')\n",
    "payload.set_payload((attach_file).read())\n",
    "encoders.encode_base64(payload) #encode the attachment\n",
    "#add payload header with filename\n",
    "payload.add_header('Content-Decomposition', 'attachment', filename=attach_file_name)\n",
    "message.attach(payload)\n",
    "#Create SMTP session for sending the mail\n",
    "session = smtplib.SMTP('smtp.gmail.com', 587) #use gmail with port\n",
    "session.starttls() #enable security\n",
    "session.login(sender_address, sender_pass) #login with mail_id and password\n",
    "text = message.as_string()\n",
    "session.sendmail(sender_address, receiver_address, text)\n",
    "session.quit()\n",
    "print('Mail Sent')\n"
   ]
  },
  {
   "cell_type": "markdown",
   "metadata": {},
   "source": [
    "## Instagram post scheduler\n"
   ]
  },
  {
   "cell_type": "code",
   "execution_count": 2,
   "metadata": {},
   "outputs": [],
   "source": [
    "#Upload posts on specific dates\n",
    "#access instagram, upload photos\n",
    "#make a folder, automate detection of photos\n"
   ]
  },
  {
   "cell_type": "code",
   "execution_count": 3,
   "metadata": {},
   "outputs": [],
   "source": [
    "#from instapy_cli import client\n",
    "\n",
    "#username='codatalicious'\n",
    "#password='N@m0karmantra'\n",
    "#text='This is an automated trial postdone by pythonHow you doing  pythonprogramming python3'\n",
    "#image='Insta3.jpg'\n",
    "\n",
    "#with client(username,password) as cli:\n",
    " #   cli.upload(image,text)\n",
    "    \n",
    "    "
   ]
  },
  {
   "cell_type": "code",
   "execution_count": 4,
   "metadata": {},
   "outputs": [],
   "source": [
    "#pip uninstall instapy-cli"
   ]
  },
  {
   "cell_type": "code",
   "execution_count": 7,
   "metadata": {},
   "outputs": [],
   "source": [
    "#pip install instapy_cli"
   ]
  },
  {
   "cell_type": "code",
   "execution_count": 2,
   "metadata": {},
   "outputs": [],
   "source": [
    "#pip install instapy"
   ]
  },
  {
   "cell_type": "code",
   "execution_count": 6,
   "metadata": {},
   "outputs": [],
   "source": [
    "#from instapy import InstaPy\n",
    "\n",
    "#InstaPy(username=\"\", password=\"\").login()"
   ]
  },
  {
   "cell_type": "markdown",
   "metadata": {},
   "source": [
    "## Object Oriented Programming"
   ]
  },
  {
   "cell_type": "markdown",
   "metadata": {},
   "source": [
    "# Link-  https://www.youtube.com/playlist?list=PL-osiE80TeTsqhIuOqKhwlXsIBIdSeYtc"
   ]
  },
  {
   "cell_type": "code",
   "execution_count": 11,
   "metadata": {},
   "outputs": [
    {
     "name": "stdout",
     "output_type": "stream",
     "text": [
      "Kitty\n",
      "80\n"
     ]
    }
   ],
   "source": [
    "class Student:\n",
    "    \n",
    "    \n",
    "    def __init__(self, name, grade):\n",
    "        self.name = name\n",
    "        self.grade = grade\n",
    "\n",
    "kitty= Student('Kitty',85)     \n",
    "daniel= Student('Daniel',80)\n",
    "\n",
    "print(kitty.name)\n",
    "print(daniel.grade)\n",
    "        "
   ]
  },
  {
   "cell_type": "code",
   "execution_count": 9,
   "metadata": {},
   "outputs": [
    {
     "name": "stdout",
     "output_type": "stream",
     "text": [
      "ganwar\n"
     ]
    }
   ],
   "source": [
    "class Dog:\n",
    "\n",
    "    # Initializer / Instance Attributes\n",
    "    def __init__(self, name, age):\n",
    "        self.name = name\n",
    "        self.age = age\n",
    "gang= Dog('ganwar',8)\n",
    "\n",
    "print(gang.name)"
   ]
  },
  {
   "cell_type": "code",
   "execution_count": 16,
   "metadata": {},
   "outputs": [
    {
     "name": "stdout",
     "output_type": "stream",
     "text": [
      "Shaily\n",
      "http://cleverprogrammer.com\n"
     ]
    }
   ],
   "source": [
    "class fighters:                    #fighters is a class\n",
    "    website='http://cleverprogrammer.com'  #class variable\n",
    "    def __init__(self,name):      #__init__ is a method \n",
    "        self.name=name                 #name is a attribute\n",
    "    \n",
    "shaily=fighters('Shaily')          #shaily is object created from class \n",
    "print(shaily.name)  #objectname. method\n",
    "print(fighters.website) #classname.method"
   ]
  },
  {
   "cell_type": "code",
   "execution_count": 28,
   "metadata": {},
   "outputs": [
    {
     "name": "stdout",
     "output_type": "stream",
     "text": [
      "Shaily attacks Yash\n",
      "Yash loses 10 health points\n",
      "90\n",
      "Shaily: 100\n",
      "Yash: 90\n",
      "{'name': 'Shaily', 'health': 100, 'damage': 10}\n"
     ]
    }
   ],
   "source": [
    "class fight:\n",
    "    def __init__(self,name):\n",
    "        self.name=name\n",
    "        self.health=100\n",
    "        self.damage=10\n",
    "        \n",
    "    def attack(self,other_guy):\n",
    "        other_guy.health=other_guy.health-self.damage\n",
    "        print(\"{} attacks {}\".format(self.name,other_guy.name))\n",
    "        print(\"{} loses {} health points\".format(other_guy.name,self.damage))\n",
    "        \n",
    "    def __str__(self):\n",
    "        return \"{}: {}\".format(self.name,self.health)\n",
    "    \n",
    "     \n",
    "yash=fight('Yash')\n",
    "shaily=fight('Shaily')\n",
    "\n",
    "shaily.attack(yash)\n",
    "\n",
    "print(yash.health)\n",
    "print(shaily)\n",
    "print(yash)\n",
    "\n",
    "\n",
    "print(shaily.__dict__)"
   ]
  },
  {
   "cell_type": "code",
   "execution_count": 57,
   "metadata": {},
   "outputs": [
    {
     "name": "stdout",
     "output_type": "stream",
     "text": [
      "300\n",
      "11\n",
      "Jim\n",
      "Jim.jain@email.com\n",
      "Jim jain\n",
      "Whatever\n",
      "Whatever.jain@email.com\n",
      "Whatever jain\n",
      "Fullname deleted\n"
     ]
    }
   ],
   "source": [
    "## Regular method takes instance( that is object as a first argument called self, \n",
    "##it is also possible to have class method, where first arg is a class)\n",
    "\n",
    "class Employee:\n",
    "    \n",
    "    raise_amount=1.04\n",
    "    empl_count=0\n",
    "    def __init__(self,first,last,pay):\n",
    "        self.first=first\n",
    "        self.last=last\n",
    "        self.pay=pay\n",
    "       #self.email=first +'.'+last+'@company.com'\n",
    "        \n",
    "        Employee.empl_count +=1\n",
    "    \n",
    "    @property\n",
    "    def email(self):\n",
    "        return \"{}.{}@email.com\".format(self.first,self.last)\n",
    "    \n",
    "    @property\n",
    "    def fullname(self):\n",
    "        return \"{} {}\".format(self.first,self.last)\n",
    "    \n",
    "    @fullname.setter\n",
    "    def fullname(self,name):\n",
    "        first,last=name.split(' ')\n",
    "        self.first=first\n",
    "        self.last\n",
    "    \n",
    "    @fullname.deleter\n",
    "    def fullname(self):\n",
    "        print('Fullname deleted')\n",
    "        self.last=None\n",
    "        self.first=None\n",
    "        \n",
    "        \n",
    "        \n",
    "    \n",
    "    def apply_raise(self):\n",
    "        self.pay=self.pay*self.raise_amount\n",
    "        \n",
    "    @classmethod   #decorator\n",
    "    def set_raise_amount(cls,amount):\n",
    "        cls.raise_amount=amount\n",
    "    \n",
    "    \n",
    "    @classmethod                                                  #Additional constructors\n",
    "    def from_string(cls,emp_str):\n",
    "        first,last,pay=[int(i) if i.isdigit() else i for i in emp_str.split('-')]\n",
    "        return cls(first,last,pay)\n",
    "#Datatime class methods\n",
    "\n",
    "#static methods--- no class needed\n",
    "\n",
    "    @staticmethod\n",
    "    def is_workday(day):\n",
    "        if day.weekday()==5 or day.weekday()==6:\n",
    "            return False\n",
    "        return True\n",
    "    \n",
    "    \n",
    "    def __add__(self,other):\n",
    "        return self.pay+other.pay\n",
    "    \n",
    "    \n",
    "    def __len__(self):\n",
    "        return len(self.fullname)\n",
    "\n",
    "    \n",
    "\n",
    "\n",
    "\n",
    "\n",
    "\n",
    "\n",
    "# #Magic/Dunder Method surrounded by double underscore\n",
    "# ##e.g. __init__, __repr__, __str__,__add__,__len__,__mul\n",
    "\n",
    "        \n",
    "#     def __repr__(self):\n",
    "#         return \"Employee('{}','{}','{}')\".format(self.first,self.last,self.pay)\n",
    "    \n",
    "    \n",
    "#     def __str__(self):\n",
    "#         return \"{}-{}\".format(self.fullname,self.email)\n",
    "\n",
    "# print(emp_1)  #vague representation of an object\n",
    "# print(repr(emp_1)\n",
    "# print(str(emp_1)   \n",
    "\n",
    "    \n",
    "    \n",
    "# import datetime\n",
    "# my_date=datetime.date(2016,7,11)\n",
    "\n",
    "# print(Employee.is_workday(my_date))\n",
    "\n",
    "            \n",
    "    \n",
    "    \n",
    "# emp_1=Employee('shaily','jain',100)    \n",
    "    \n",
    "# emp_2=Employee('shubhi','gupta',200)\n",
    "\n",
    "# print(Employee.raise_amount)\n",
    "# print(emp_1.raise_amount)   #both are same, ut self.raise_amount inapply_raise allows chaging specific raise amouunt fro employ1\n",
    "\n",
    "# #emp_1.raise_amount=1.05\n",
    "# print(Employee.raise_amount)\n",
    "# print(emp_1.raise_amount)  \n",
    "\n",
    "# print(Employee.empl_count)  #since empl_count should not change with instance so class variable called in init\n",
    "\n",
    "\n",
    "\n",
    "# #class method\n",
    "# Employee.set_raise_amount(1.06)\n",
    "# print(Employee.raise_amount)\n",
    "# print(emp_1.raise_amount)  \n",
    "    \n",
    "    \n",
    "# emp_str_1='John-Fischer-230'\n",
    "\n",
    "# new_emp_1=Employee.from_string(emp_str_1)\n",
    "\n",
    "# print(new_emp_1.email)\n",
    "# print(new_emp_1.pay*2)\n",
    "# print(new_emp_1.first)\n",
    "    \n",
    "    \n",
    "    \n",
    "class Developer(Employee):\n",
    "    raise_amount=1.10\n",
    "    \n",
    "    def __init__(self,first, last, pay, prog_lang):\n",
    "        super().__init__(first, last, pay)        # OR Employee.__init__(self, first, last, pay)\n",
    "        self.prog_lang=prog_lang\n",
    "\n",
    "        \n",
    "class Manager(Employee):\n",
    "    \n",
    "    def __init__(self,first,last,pay,employees=None):\n",
    "        super().__init__(first,last,pay)\n",
    "        if employees is None:\n",
    "            self.employees=[]\n",
    "        else:    \n",
    "            self.employees=employees\n",
    "            \n",
    "    def  add_emp(self,emp):\n",
    "        if emp not in self.employees:\n",
    "            self.employees.append(emp)\n",
    "            \n",
    "    def  remove_emp(self,emp):\n",
    "        if emp in self.employees:\n",
    "            self.employees.remove(emp)\n",
    "            \n",
    "    def  print_emp(self):\n",
    "        for emp in self.employees:\n",
    "            print('--->',emp.fullname())\n",
    "        \n",
    "\n",
    "# dev_1=Developer('Frank','Julia',900,'Python')\n",
    "# dev_2=Developer('green','bor',900,'Java')\n",
    "        \n",
    "# mgr_1=Manager('Sue','Smith',10000,[dev_1])        \n",
    "\n",
    "\n",
    "# print(mgr_1.email)\n",
    "\n",
    "# mgr_1.add_emp(dev_2)\n",
    "\n",
    "# mgr_1.print_emp()\n",
    "# print(dev_1.pay)\n",
    "# print(dev_2.email)\n",
    "# #print(help(Developer))\n",
    "\n",
    "# dev_1.apply_raise()\n",
    "# print(dev_1.pay)\n",
    "\n",
    "# print(isinstance(mgr_1,Developer))\n",
    "# print(isinstance(mgr_1,Manager))\n",
    "# print(isinstance(mgr_1,Employee))\n",
    "\n",
    "# print(issubclass(Manager,Employee))\n",
    "# print(issubclass(Developer,Employee))\n",
    "# print(issubclass(Developer,Manager))\n",
    "\n",
    "\n",
    "   \n",
    "emp_1=Employee('shaily','jain',100)    \n",
    "    \n",
    "emp_2=Employee('shubhi','gupta',200)\n",
    "    \n",
    "print(emp_1 + emp_2)\n",
    "print(emp_1.__len__())\n",
    "\n",
    "emp_1.first ='Jim' #email id does nnot changes , as defined inside init method , while full name changes as anohter method\n",
    "print(emp_1.first)\n",
    "print(emp_1.email)  #email is attribute \n",
    "print(emp_1.fullname) #fullname as method can be changed to attribute by using property\n",
    "\n",
    "\n",
    "emp_1.fullname='Whatever Sharma'\n",
    "print(emp_1.first)\n",
    "print(emp_1.email)  #email is attribute \n",
    "print(emp_1.fullname) #fullname as method can be changed to attribute by using property\n",
    "\n",
    "del emp_1.fullname\n"
   ]
  },
  {
   "cell_type": "code",
   "execution_count": null,
   "metadata": {},
   "outputs": [],
   "source": []
  }
 ],
 "metadata": {
  "kernelspec": {
   "display_name": "Python 3",
   "language": "python",
   "name": "python3"
  },
  "language_info": {
   "codemirror_mode": {
    "name": "ipython",
    "version": 3
   },
   "file_extension": ".py",
   "mimetype": "text/x-python",
   "name": "python",
   "nbconvert_exporter": "python",
   "pygments_lexer": "ipython3",
   "version": "3.7.4"
  }
 },
 "nbformat": 4,
 "nbformat_minor": 2
}
